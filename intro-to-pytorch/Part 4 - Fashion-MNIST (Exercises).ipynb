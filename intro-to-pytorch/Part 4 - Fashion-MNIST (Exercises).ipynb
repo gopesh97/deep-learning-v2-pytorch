{
 "cells": [
  {
   "cell_type": "markdown",
   "metadata": {},
   "source": [
    "# Classifying Fashion-MNIST\n",
    "\n",
    "Now it's your turn to build and train a neural network. You'll be using the [Fashion-MNIST dataset](https://github.com/zalandoresearch/fashion-mnist), a drop-in replacement for the MNIST dataset. MNIST is actually quite trivial with neural networks where you can easily achieve better than 97% accuracy. Fashion-MNIST is a set of 28x28 greyscale images of clothes. It's more complex than MNIST, so it's a better representation of the actual performance of your network, and a better representation of datasets you'll use in the real world.\n",
    "\n",
    "<img src='assets/fashion-mnist-sprite.png' width=500px>\n",
    "\n",
    "In this notebook, you'll build your own neural network. For the most part, you could just copy and paste the code from Part 3, but you wouldn't be learning. It's important for you to write the code yourself and get it to work. Feel free to consult the previous notebooks though as you work through this.\n",
    "\n",
    "First off, let's load the dataset through torchvision."
   ]
  },
  {
   "cell_type": "code",
   "execution_count": 37,
   "metadata": {},
   "outputs": [],
   "source": [
    "import torch\n",
    "from torchvision import datasets, transforms\n",
    "import helper\n",
    "\n",
    "# Define a transform to normalize the data\n",
    "transform = transforms.Compose([transforms.ToTensor(),\n",
    "                                transforms.Normalize((0.5, 0.5, 0.5), (0.5, 0.5, 0.5))])\n",
    "# Download and load the training data\n",
    "trainset = datasets.FashionMNIST('~/.pytorch/F_MNIST_data/', download=True, train=True, transform=transform)\n",
    "trainloader = torch.utils.data.DataLoader(trainset, batch_size=64, shuffle=True)\n",
    "\n",
    "# Download and load the test data , here #train is false\n",
    "testset = datasets.FashionMNIST('~/.pytorch/F_MNIST_data/', download=True, train=False, transform=transform)\n",
    "testloader = torch.utils.data.DataLoader(testset, batch_size=64, shuffle=True)"
   ]
  },
  {
   "cell_type": "markdown",
   "metadata": {},
   "source": [
    "Here we can see one of the images."
   ]
  },
  {
   "cell_type": "code",
   "execution_count": 5,
   "metadata": {},
   "outputs": [
    {
     "name": "stdout",
     "output_type": "stream",
     "text": [
      "torch.Size([1, 28, 28])\n"
     ]
    },
    {
     "data": {
      "text/plain": [
       "<matplotlib.axes._subplots.AxesSubplot at 0x7ff07a68b940>"
      ]
     },
     "execution_count": 5,
     "metadata": {},
     "output_type": "execute_result"
    },
    {
     "data": {
      "image/png": "[encoded data removed]",
      "text/plain": [
       "<Figure size 432x288 with 1 Axes>"
      ]
     },
     "metadata": {
      "needs_background": "light"
     },
     "output_type": "display_data"
    }
   ],
   "source": [
    "image, label = next(iter(trainloader))\n",
    "print(image[0,:].shape)\n",
    "helper.imshow(image[0,:])"
   ]
  },
  {
   "cell_type": "markdown",
   "metadata": {},
   "source": [
    "## Building the network\n",
    "\n",
    "Here you should define your network. As with MNIST, each image is 28x28 which is a total of 784 pixels, and there are 10 classes. You should include at least one hidden layer. We suggest you use ReLU activations for the layers and to return the logits or log-softmax from the forward pass. It's up to you how many layers you add and the size of those layers."
   ]
  },
  {
   "cell_type": "code",
   "execution_count": 9,
   "metadata": {},
   "outputs": [],
   "source": [
    "import torch\n",
    "from torch import nn\n",
    "import torch.nn.functional as F\n",
    "import torch.optim as optim"
   ]
  },
  {
   "cell_type": "code",
   "execution_count": 15,
   "metadata": {},
   "outputs": [
    {
     "name": "stdout",
     "output_type": "stream",
     "text": [
      "Training loss: 0.841237858128446\n",
      "Training loss: 0.47691408738589236\n",
      "Training loss: 0.41752962374102587\n",
      "Training loss: 0.3838778618874072\n",
      "Training loss: 0.3604408615846624\n"
     ]
    }
   ],
   "source": [
    "# TODO: Define your network architecture here\n",
    "\n",
    "model = nn.Sequential(nn.Linear(784,256),\n",
    "                      nn.ReLU(),\n",
    "                      nn.Linear(256,128),\n",
    "                      nn.ReLU(),\n",
    "                      nn.Linear(128,64),\n",
    "                      nn.ReLU(),\n",
    "                      nn.Linear(64,10),\n",
    "                      nn.LogSoftmax(dim=1))\n",
    "crieterion = nn.NLLLoss()\n",
    "optimizer = optim.SGD(model.parameters(),lr=0.03)\n",
    "epochs=5\n",
    "for i in range(epochs):\n",
    "    running_loss=0\n",
    "    for image,labels in trainloader:\n",
    "        image=image.view(image.shape[0],-1)\n",
    "        optimizer.zero_grad()\n",
    "        logits=model.forward(image)\n",
    "        loss=crieterion(logits,labels)\n",
    "        loss.backward()\n",
    "        optimizer.step()\n",
    "        running_loss+=loss.item()\n",
    "    else:\n",
    "        print(f\"Training loss: {running_loss/len(trainloader)}\")\n",
    "        "
   ]
  },
  {
   "cell_type": "markdown",
   "metadata": {},
   "source": [
    "# Train the network\n",
    "\n",
    "Now you should create your network and train it. First you'll want to define [the criterion](http://pytorch.org/docs/master/nn.html#loss-functions) ( something like `nn.CrossEntropyLoss`) and [the optimizer](http://pytorch.org/docs/master/optim.html) (typically `optim.SGD` or `optim.Adam`).\n",
    "\n",
    "Then write the training code. Remember the training pass is a fairly straightforward process:\n",
    "\n",
    "* Make a forward pass through the network to get the logits \n",
    "* Use the logits to calculate the loss\n",
    "* Perform a backward pass through the network with `loss.backward()` to calculate the gradients\n",
    "* Take a step with the optimizer to update the weights\n",
    "\n",
    "By adjusting the hyperparameters (hidden units, learning rate, etc), you should be able to get the training loss below 0.4."
   ]
  },
  {
   "cell_type": "code",
   "execution_count": null,
   "metadata": {},
   "outputs": [],
   "source": [
    "# TODO: Create the network, define the criterion and optimizer\n"
   ]
  },
  {
   "cell_type": "code",
   "execution_count": null,
   "metadata": {},
   "outputs": [],
   "source": [
    "# TODO: Train the network here\n"
   ]
  },
  {
   "cell_type": "code",
   "execution_count": 32,
   "metadata": {},
   "outputs": [
    {
     "name": "stderr",
     "output_type": "stream",
     "text": [
      "/home/gopesh/.local/lib/python3.6/site-packages/ipykernel_launcher.py:16: UserWarning: Implicit dimension choice for softmax has been deprecated. Change the call to include dim=X as an argument.\n",
      "  app.launch_new_instance()\n"
     ]
    },
    {
     "data": {
      "image/png": "[encoded data removed]",
      "text/plain": [
       "<Figure size 432x648 with 2 Axes>"
      ]
     },
     "metadata": {
      "image/png": {
       "height": 206,
       "width": 423
      },
      "needs_background": "light"
     },
     "output_type": "display_data"
    }
   ],
   "source": [
    "%matplotlib inline\n",
    "%config InlineBackend.figure_format = 'retina'\n",
    "\n",
    "import helper\n",
    "\n",
    "# Test out your network!\n",
    "\n",
    "dataiter = iter(testloader)\n",
    "images, labels = dataiter.next()\n",
    "img = images[0]\n",
    "# Convert 2D image to 1D vector\n",
    "img = img.resize_(1, 784)\n",
    "\n",
    "# TODO: Calculate the class probabilities (softmax) for img\n",
    "with torch.no_grad():\n",
    "    ps = F.softmax(model.forward(img))\n",
    "\n",
    "# Plot the image and probabilities\n",
    "helper.view_classify(img.resize_(1, 28, 28), ps, version='Fashion')"
   ]
  },
  {
   "cell_type": "code",
   "execution_count": 38,
   "metadata": {},
   "outputs": [
    {
     "data": {
      "text/plain": [
       "tensor([8, 9, 9, 1, 8, 1, 8, 9, 3, 5, 3, 5, 1, 9, 2, 7, 7, 3, 0, 7, 3, 4, 3, 6,\n",
       "        5, 7, 1, 5, 3, 9, 6, 7, 7, 3, 3, 4, 5, 5, 9, 6, 7, 1, 6, 6, 5, 6, 6, 1,\n",
       "        5, 5, 9, 5, 9, 1, 0, 0, 7, 1, 8, 0, 9, 1, 3, 1])"
      ]
     },
     "execution_count": 38,
     "metadata": {},
     "output_type": "execute_result"
    }
   ],
   "source": [
    "labels"
   ]
  },
  {
   "cell_type": "code",
   "execution_count": 43,
   "metadata": {},
   "outputs": [],
   "source": [
    "logits=model(images.view(images.shape[0],-1))"
   ]
  },
  {
   "cell_type": "code",
   "execution_count": 52,
   "metadata": {},
   "outputs": [
    {
     "data": {
      "text/plain": [
       "tensor([ -5.8961, -12.5576,  -7.9830,  -9.8590,  -6.6448,  -9.7642,  -5.9612,\n",
       "        -11.9220,  -0.0071, -12.5560], grad_fn=<SelectBackward>)"
      ]
     },
     "execution_count": 52,
     "metadata": {},
     "output_type": "execute_result"
    }
   ],
   "source": [
    "logits[0,:]"
   ]
  },
  {
   "cell_type": "code",
   "execution_count": 48,
   "metadata": {},
   "outputs": [
    {
     "data": {
      "text/plain": [
       "tensor([2.7501e-03, 3.5181e-06, 3.4122e-04, 5.2276e-05, 1.3008e-03, 5.7471e-05,\n",
       "        2.5768e-03, 6.6426e-06, 9.9291e-01, 3.5237e-06],\n",
       "       grad_fn=<ExpBackward>)"
      ]
     },
     "execution_count": 48,
     "metadata": {},
     "output_type": "execute_result"
    }
   ],
   "source": [
    "torch.exp(logits[0,:])"
   ]
  },
  {
   "cell_type": "code",
   "execution_count": 63,
   "metadata": {},
   "outputs": [
    {
     "data": {
      "text/plain": [
       "tensor([[2.7501e-03, 3.5181e-06, 3.4122e-04, 5.2276e-05, 1.3008e-03, 5.7471e-05,\n",
       "         2.5768e-03, 6.6426e-06, 9.9291e-01, 3.5237e-06],\n",
       "        [6.2013e-05, 1.7174e-06, 1.5225e-06, 1.1486e-05, 2.2318e-07, 3.5992e-03,\n",
       "         3.2096e-05, 4.7427e-02, 6.7538e-04, 9.4819e-01],\n",
       "        [1.0035e-02, 2.5476e-03, 3.8350e-03, 3.9831e-03, 1.8083e-04, 6.6367e-01,\n",
       "         1.9689e-03, 8.0321e-02, 8.6008e-03, 2.2485e-01],\n",
       "        [1.3595e-04, 9.9944e-01, 1.9913e-06, 3.5880e-04, 5.7608e-05, 1.4068e-06,\n",
       "         3.1233e-06, 2.6712e-06, 1.7078e-06, 2.4986e-08],\n",
       "        [3.8058e-03, 8.6464e-06, 1.3866e-04, 4.7959e-05, 3.9262e-04, 1.3366e-03,\n",
       "         2.5964e-03, 5.3274e-05, 9.9145e-01, 1.6520e-04],\n",
       "        [1.6819e-02, 9.7771e-01, 1.0088e-04, 4.3046e-03, 5.3107e-04, 3.1007e-05,\n",
       "         2.6060e-04, 5.7739e-05, 1.8408e-04, 8.1912e-07],\n",
       "        [6.3504e-05, 2.2169e-05, 3.9167e-05, 5.6002e-05, 7.7770e-04, 1.1945e-03,\n",
       "         2.0485e-05, 1.2944e-03, 9.9651e-01, 1.9545e-05],\n",
       "        [3.3189e-06, 4.7450e-08, 8.9970e-08, 5.3406e-07, 4.5991e-09, 4.5721e-03,\n",
       "         2.0331e-06, 2.3737e-03, 4.0090e-05, 9.9301e-01],\n",
       "        [3.6916e-04, 5.6136e-04, 4.7432e-05, 9.9830e-01, 5.1943e-04, 2.4318e-06,\n",
       "         9.8196e-05, 2.0293e-05, 7.6491e-05, 1.6802e-06],\n",
       "        [3.2119e-03, 5.1139e-05, 4.9580e-04, 1.2712e-03, 2.5806e-06, 5.7337e-01,\n",
       "         3.7773e-04, 9.6120e-02, 3.9914e-03, 3.2111e-01],\n",
       "        [3.0847e-04, 1.2218e-03, 2.5424e-05, 9.9769e-01, 4.6120e-04, 2.3949e-06,\n",
       "         2.6483e-04, 1.6058e-05, 9.6610e-06, 3.8892e-06],\n",
       "        [5.9730e-02, 5.5872e-03, 7.4922e-02, 3.0033e-03, 7.1197e-03, 6.2410e-01,\n",
       "         5.9396e-02, 2.0478e-02, 1.4395e-01, 1.7150e-03],\n",
       "        [1.0771e-05, 9.9997e-01, 5.8687e-08, 1.3651e-05, 2.7149e-06, 6.5477e-08,\n",
       "         9.0713e-08, 1.1666e-07, 6.0294e-08, 3.0953e-10],\n",
       "        [2.6324e-02, 2.7252e-05, 1.1209e-03, 2.3497e-03, 1.2549e-05, 2.5429e-02,\n",
       "         1.2848e-02, 1.2390e-02, 6.7495e-03, 9.1275e-01],\n",
       "        [1.4114e-03, 8.0771e-05, 9.1121e-01, 3.7836e-04, 4.3394e-02, 4.5573e-05,\n",
       "         4.3022e-02, 1.6379e-07, 4.5797e-04, 8.3716e-07],\n",
       "        [3.0001e-04, 9.2208e-04, 7.3590e-05, 4.8938e-04, 4.0574e-05, 4.0666e-02,\n",
       "         8.0931e-05, 9.0457e-01, 3.0725e-03, 4.9782e-02],\n",
       "        [3.2308e-05, 5.3035e-05, 3.0546e-06, 4.1169e-05, 1.5178e-06, 2.0911e-02,\n",
       "         7.1998e-06, 9.1993e-01, 1.3882e-03, 5.7630e-02],\n",
       "        [2.0435e-02, 7.8330e-04, 3.4808e-03, 9.4950e-01, 7.0526e-03, 5.6136e-06,\n",
       "         1.8327e-02, 3.7732e-05, 3.6484e-04, 9.2469e-06],\n",
       "        [9.8962e-01, 4.3526e-06, 5.7488e-04, 3.3323e-04, 3.4163e-07, 2.7789e-07,\n",
       "         9.4453e-03, 1.7428e-08, 2.4646e-05, 7.3296e-09],\n",
       "        [1.9409e-05, 1.2221e-04, 6.7397e-06, 2.3062e-05, 4.4496e-06, 4.0853e-01,\n",
       "         1.0990e-05, 5.7179e-01, 8.5689e-04, 1.8637e-02],\n",
       "        [1.2722e-02, 1.7027e-03, 1.9889e-01, 6.2075e-01, 7.5168e-02, 6.4729e-05,\n",
       "         8.9302e-02, 2.5388e-05, 1.3515e-03, 1.6502e-05],\n",
       "        [3.9675e-03, 1.2204e-03, 2.0807e-02, 2.7554e-02, 9.0176e-01, 5.7199e-06,\n",
       "         3.6862e-02, 3.7764e-06, 7.8130e-03, 2.1468e-06],\n",
       "        [1.6623e-01, 1.5134e-02, 1.5113e-03, 7.8855e-01, 1.2768e-03, 4.9983e-04,\n",
       "         5.7928e-03, 1.6540e-03, 1.9299e-02, 5.2339e-05],\n",
       "        [8.0832e-04, 9.4959e-07, 1.0216e-02, 3.9362e-04, 8.8688e-03, 1.6629e-06,\n",
       "         9.7952e-01, 1.7697e-08, 1.8736e-04, 8.5945e-07],\n",
       "        [7.6408e-08, 2.3033e-09, 7.4866e-08, 1.5572e-09, 1.9939e-09, 9.9995e-01,\n",
       "         2.8614e-07, 1.3392e-07, 2.8387e-06, 5.1140e-05],\n",
       "        [5.3020e-06, 2.3853e-04, 8.1160e-07, 1.4255e-05, 1.7270e-06, 7.0570e-03,\n",
       "         4.3485e-07, 9.9212e-01, 2.8351e-04, 2.8119e-04],\n",
       "        [5.7211e-05, 9.9990e-01, 1.6108e-07, 3.6325e-05, 6.3826e-06, 7.3899e-08,\n",
       "         5.1563e-07, 6.8826e-08, 1.1701e-07, 6.6834e-10],\n",
       "        [2.6478e-04, 7.9714e-07, 1.0968e-05, 1.0652e-05, 6.5550e-07, 6.7421e-01,\n",
       "         2.2313e-04, 1.9048e-03, 1.0727e-02, 3.1265e-01],\n",
       "        [1.6603e-03, 6.6660e-04, 3.0436e-05, 9.9657e-01, 1.9668e-04, 1.2968e-06,\n",
       "         8.6108e-04, 5.5432e-06, 1.0075e-05, 1.0044e-06],\n",
       "        [3.0736e-07, 2.5505e-09, 1.1950e-08, 5.1951e-08, 2.8530e-10, 1.0178e-03,\n",
       "         3.5781e-07, 1.6754e-04, 1.3064e-06, 9.9881e-01],\n",
       "        [3.8065e-01, 2.9795e-05, 1.0417e-03, 1.6394e-03, 3.5563e-04, 1.0367e-06,\n",
       "         6.1559e-01, 5.5870e-07, 6.8927e-04, 6.9771e-07],\n",
       "        [4.4060e-05, 3.0703e-04, 1.3722e-05, 9.4875e-05, 9.6614e-06, 6.1157e-02,\n",
       "         1.2409e-05, 9.1952e-01, 1.3265e-03, 1.7515e-02],\n",
       "        [1.5441e-06, 1.0785e-04, 2.3051e-07, 3.6472e-06, 4.9737e-07, 6.9333e-03,\n",
       "         1.0072e-07, 9.9265e-01, 1.4561e-04, 1.5615e-04],\n",
       "        [1.1745e-02, 1.0361e-03, 5.5881e-04, 9.6986e-01, 2.6020e-03, 2.9788e-04,\n",
       "         7.0835e-03, 2.6086e-04, 6.3400e-03, 2.1266e-04],\n",
       "        [5.2105e-03, 1.1446e-02, 2.9013e-04, 9.8009e-01, 6.5596e-04, 1.9757e-04,\n",
       "         9.6303e-04, 7.0077e-04, 4.0545e-04, 3.6720e-05],\n",
       "        [1.5096e-04, 1.5161e-04, 4.5221e-01, 4.2098e-05, 5.0897e-01, 1.4104e-05,\n",
       "         3.8386e-02, 9.4144e-09, 7.2540e-05, 1.2032e-07],\n",
       "        [8.7364e-04, 1.4160e-04, 4.0916e-04, 1.0420e-03, 5.4358e-05, 3.1985e-02,\n",
       "         1.1625e-03, 1.5389e-02, 1.3251e-03, 9.4762e-01],\n",
       "        [7.9916e-05, 4.3508e-05, 5.0113e-04, 2.3338e-05, 1.7670e-05, 9.9885e-01,\n",
       "         1.2369e-04, 1.3267e-04, 1.2602e-04, 9.9848e-05],\n",
       "        [3.0813e-06, 4.6554e-08, 1.1584e-07, 5.4709e-07, 6.6115e-09, 4.5202e-03,\n",
       "         5.0038e-06, 1.5554e-03, 1.8445e-05, 9.9390e-01],\n",
       "        [8.5278e-04, 3.5700e-05, 8.9541e-01, 3.6093e-03, 5.3556e-02, 3.8238e-05,\n",
       "         4.5612e-02, 2.3599e-06, 8.8004e-04, 7.7772e-06],\n",
       "        [5.8413e-06, 1.9221e-04, 7.2450e-07, 1.8223e-05, 1.7457e-06, 3.5955e-03,\n",
       "         6.0964e-07, 9.9495e-01, 3.7467e-04, 8.6466e-04],\n",
       "        [1.5150e-05, 9.9991e-01, 2.6069e-07, 6.2116e-05, 8.3006e-06, 4.1436e-07,\n",
       "         2.1172e-07, 6.9471e-07, 2.0232e-07, 2.4975e-09],\n",
       "        [7.4460e-01, 2.5426e-05, 6.9334e-04, 8.8840e-04, 1.5203e-05, 7.9349e-06,\n",
       "         2.5337e-01, 6.3928e-07, 3.8951e-04, 7.8240e-07],\n",
       "        [1.5851e-02, 2.7835e-04, 1.3650e-01, 1.0274e-02, 4.9667e-02, 2.6493e-04,\n",
       "         7.8617e-01, 1.5616e-06, 9.4984e-04, 4.9182e-05],\n",
       "        [8.5855e-06, 3.5196e-05, 5.3497e-05, 6.7017e-06, 6.7365e-06, 9.9768e-01,\n",
       "         1.6052e-05, 1.7673e-03, 1.0086e-04, 3.2943e-04],\n",
       "        [4.4901e-01, 1.4800e-03, 3.8075e-03, 6.7302e-03, 4.2486e-03, 7.6151e-06,\n",
       "         5.3419e-01, 1.1769e-06, 5.2391e-04, 6.1670e-06],\n",
       "        [7.1510e-03, 5.2374e-05, 5.7821e-02, 2.1890e-03, 2.3218e-02, 5.5136e-05,\n",
       "         9.0891e-01, 3.6673e-07, 5.8798e-04, 9.9545e-06],\n",
       "        [1.2806e-04, 9.9983e-01, 5.5800e-07, 2.4588e-05, 1.9170e-05, 8.0572e-08,\n",
       "         8.5754e-07, 5.0432e-08, 5.6792e-07, 2.8070e-10],\n",
       "        [1.9553e-06, 2.4207e-07, 2.1514e-06, 4.9061e-08, 1.3640e-07, 9.9986e-01,\n",
       "         4.6321e-06, 3.8600e-06, 3.8590e-05, 8.7758e-05],\n",
       "        [9.7737e-05, 6.0705e-05, 1.8216e-04, 4.1485e-05, 4.9060e-06, 9.9559e-01,\n",
       "         8.7574e-05, 2.4175e-03, 1.7812e-04, 1.3385e-03],\n",
       "        [3.4736e-06, 3.0764e-08, 1.6892e-07, 6.3111e-07, 7.0388e-09, 2.5458e-03,\n",
       "         3.0785e-06, 6.7404e-04, 4.0848e-05, 9.9673e-01],\n",
       "        [4.1813e-06, 2.3174e-07, 1.2805e-06, 2.5631e-07, 3.4721e-08, 9.9950e-01,\n",
       "         2.3244e-06, 7.2505e-05, 4.1808e-05, 3.7401e-04],\n",
       "        [2.6342e-06, 6.9589e-07, 6.0137e-08, 2.9577e-06, 5.6743e-08, 2.0065e-03,\n",
       "         1.1005e-06, 2.6545e-01, 6.1590e-04, 7.3192e-01],\n",
       "        [2.7921e-03, 9.9604e-01, 1.0988e-05, 9.2682e-04, 1.6295e-04, 2.1590e-06,\n",
       "         5.8045e-05, 2.2239e-06, 9.3157e-06, 4.1157e-08],\n",
       "        [9.7616e-01, 1.3004e-04, 1.2564e-03, 2.3417e-03, 6.7878e-06, 3.3412e-06,\n",
       "         2.0013e-02, 4.1980e-07, 8.7002e-05, 2.7483e-07],\n",
       "        [9.6897e-01, 4.5226e-04, 2.5374e-03, 1.6872e-03, 2.7214e-05, 8.6688e-06,\n",
       "         2.6007e-02, 9.7072e-07, 3.0668e-04, 5.9253e-07],\n",
       "        [3.0508e-06, 5.7741e-05, 4.3145e-07, 7.7721e-06, 6.0584e-07, 5.3812e-03,\n",
       "         3.2296e-07, 9.9250e-01, 3.4343e-04, 1.7048e-03],\n",
       "        [2.0846e-04, 9.9966e-01, 1.3534e-06, 8.6199e-05, 4.1885e-05, 2.4344e-07,\n",
       "         2.6794e-06, 1.9879e-07, 1.1171e-06, 1.7276e-09],\n",
       "        [6.1033e-05, 6.3558e-08, 7.8265e-06, 2.5775e-06, 1.0232e-04, 3.6627e-06,\n",
       "         3.1121e-05, 6.9498e-07, 9.9979e-01, 1.8884e-07],\n",
       "        [9.2786e-01, 1.8533e-03, 2.8730e-03, 2.0175e-03, 6.1447e-05, 1.0559e-04,\n",
       "         6.4642e-02, 6.0449e-06, 5.7257e-04, 9.8804e-06],\n",
       "        [7.3132e-06, 4.7340e-07, 2.7686e-07, 7.2102e-06, 9.9749e-08, 1.3877e-03,\n",
       "         9.3974e-06, 5.7866e-02, 3.2357e-04, 9.4040e-01],\n",
       "        [1.1060e-02, 9.8533e-01, 5.5237e-05, 2.5307e-03, 5.1991e-04, 6.3591e-06,\n",
       "         4.5663e-04, 6.2357e-06, 3.3604e-05, 4.2043e-07],\n",
       "        [1.7937e-02, 6.5146e-03, 3.0283e-04, 9.7193e-01, 3.4592e-04, 4.0064e-05,\n",
       "         2.7124e-03, 8.5042e-05, 1.2012e-04, 1.0187e-05],\n",
       "        [3.3834e-04, 9.9957e-01, 1.0875e-06, 4.1814e-05, 4.4859e-05, 2.5829e-08,\n",
       "         2.1894e-06, 1.4691e-08, 7.1840e-07, 9.5250e-11]],\n",
       "       grad_fn=<SoftmaxBackward>)"
      ]
     },
     "execution_count": 63,
     "metadata": {},
     "output_type": "execute_result"
    }
   ],
   "source": [
    "F.softmax(logits,dim=1)"
   ]
  },
  {
   "cell_type": "code",
   "execution_count": null,
   "metadata": {},
   "outputs": [],
   "source": []
  }
 ],
 "metadata": {
  "kernelspec": {
   "display_name": "Python 3",
   "language": "python",
   "name": "python3"
  },
  "language_info": {
   "codemirror_mode": {
    "name": "ipython",
    "version": 3
   },
   "file_extension": ".py",
   "mimetype": "text/x-python",
   "name": "python",
   "nbconvert_exporter": "python",
   "pygments_lexer": "ipython3",
   "version": "3.6.6"
  }
 },
 "nbformat": 4,
 "nbformat_minor": 2
}
